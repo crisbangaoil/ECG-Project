{
 "cells": [
  {
   "cell_type": "markdown",
   "metadata": {},
   "source": [
    "# Deep Learning ECG Heareat Categorization\n",
    "\n",
    "https://www.kaggle.com/shayanfazeli/heartbeat#mitbih_test.csv"
   ]
  },
  {
   "cell_type": "markdown",
   "metadata": {},
   "source": [
    "# Objective\n",
    "\n",
    "Predict heart disease from a digitized ECG Reading"
   ]
  },
  {
   "cell_type": "markdown",
   "metadata": {},
   "source": [
    "# Data Pre-Processing\n",
    "Note: This dataset has already been scaled"
   ]
  },
  {
   "cell_type": "code",
   "execution_count": 27,
   "metadata": {},
   "outputs": [],
   "source": [
    "import os\n",
    "import tensorflow as tf\n",
    "from keras.models import Sequential\n",
    "from keras.utils import to_categorical\n",
    "from keras.layers import Dense"
   ]
  },
  {
   "cell_type": "code",
   "execution_count": 28,
   "metadata": {},
   "outputs": [],
   "source": [
    "import numpy as np\n",
    "import pandas as pd"
   ]
  },
  {
   "cell_type": "code",
   "execution_count": 29,
   "metadata": {},
   "outputs": [],
   "source": [
    "# Training Data Paths\n",
    "X_training_data = os.path.join(\"..\", \"Resources\", \"Train\", \"X_train.csv\")\n",
    "y_training_data = os.path.join(\"..\", \"Resources\", \"Train\", \"y_train.txt\")"
   ]
  },
  {
   "cell_type": "code",
   "execution_count": 30,
   "metadata": {},
   "outputs": [],
   "source": [
    "# Testing Data Paths\n",
    "X_testing_data = os.path.join(\"..\", \"Resources\", \"Test\", \"X_test.csv\")\n",
    "y_testing_data = os.path.join(\"..\", \"Resources\", \"Test\", \"y_test.txt\")"
   ]
  },
  {
   "cell_type": "code",
   "execution_count": 31,
   "metadata": {},
   "outputs": [
    {
     "data": {
      "text/html": [
       "<div>\n",
       "<style scoped>\n",
       "    .dataframe tbody tr th:only-of-type {\n",
       "        vertical-align: middle;\n",
       "    }\n",
       "\n",
       "    .dataframe tbody tr th {\n",
       "        vertical-align: top;\n",
       "    }\n",
       "\n",
       "    .dataframe thead th {\n",
       "        text-align: right;\n",
       "    }\n",
       "</style>\n",
       "<table border=\"1\" class=\"dataframe\">\n",
       "  <thead>\n",
       "    <tr style=\"text-align: right;\">\n",
       "      <th></th>\n",
       "      <th>0</th>\n",
       "      <th>1</th>\n",
       "      <th>2</th>\n",
       "      <th>3</th>\n",
       "      <th>4</th>\n",
       "      <th>5</th>\n",
       "      <th>6</th>\n",
       "      <th>7</th>\n",
       "      <th>8</th>\n",
       "      <th>9</th>\n",
       "      <th>...</th>\n",
       "      <th>177</th>\n",
       "      <th>178</th>\n",
       "      <th>179</th>\n",
       "      <th>180</th>\n",
       "      <th>181</th>\n",
       "      <th>182</th>\n",
       "      <th>183</th>\n",
       "      <th>184</th>\n",
       "      <th>185</th>\n",
       "      <th>186</th>\n",
       "    </tr>\n",
       "  </thead>\n",
       "  <tbody>\n",
       "    <tr>\n",
       "      <th>0</th>\n",
       "      <td>0.960</td>\n",
       "      <td>0.863</td>\n",
       "      <td>0.462</td>\n",
       "      <td>0.1970</td>\n",
       "      <td>0.0940</td>\n",
       "      <td>0.1250</td>\n",
       "      <td>0.0997</td>\n",
       "      <td>0.0883</td>\n",
       "      <td>0.0741</td>\n",
       "      <td>0.0826</td>\n",
       "      <td>...</td>\n",
       "      <td>0.0</td>\n",
       "      <td>0.0</td>\n",
       "      <td>0.0</td>\n",
       "      <td>0.0</td>\n",
       "      <td>0.0</td>\n",
       "      <td>0.0</td>\n",
       "      <td>0.0</td>\n",
       "      <td>0.0</td>\n",
       "      <td>0.0</td>\n",
       "      <td>0.0</td>\n",
       "    </tr>\n",
       "    <tr>\n",
       "      <th>1</th>\n",
       "      <td>1.000</td>\n",
       "      <td>0.659</td>\n",
       "      <td>0.186</td>\n",
       "      <td>0.0703</td>\n",
       "      <td>0.0703</td>\n",
       "      <td>0.0595</td>\n",
       "      <td>0.0568</td>\n",
       "      <td>0.0432</td>\n",
       "      <td>0.0541</td>\n",
       "      <td>0.0459</td>\n",
       "      <td>...</td>\n",
       "      <td>0.0</td>\n",
       "      <td>0.0</td>\n",
       "      <td>0.0</td>\n",
       "      <td>0.0</td>\n",
       "      <td>0.0</td>\n",
       "      <td>0.0</td>\n",
       "      <td>0.0</td>\n",
       "      <td>0.0</td>\n",
       "      <td>0.0</td>\n",
       "      <td>0.0</td>\n",
       "    </tr>\n",
       "    <tr>\n",
       "      <th>2</th>\n",
       "      <td>0.925</td>\n",
       "      <td>0.666</td>\n",
       "      <td>0.541</td>\n",
       "      <td>0.2760</td>\n",
       "      <td>0.1960</td>\n",
       "      <td>0.0773</td>\n",
       "      <td>0.0718</td>\n",
       "      <td>0.0608</td>\n",
       "      <td>0.0663</td>\n",
       "      <td>0.0580</td>\n",
       "      <td>...</td>\n",
       "      <td>0.0</td>\n",
       "      <td>0.0</td>\n",
       "      <td>0.0</td>\n",
       "      <td>0.0</td>\n",
       "      <td>0.0</td>\n",
       "      <td>0.0</td>\n",
       "      <td>0.0</td>\n",
       "      <td>0.0</td>\n",
       "      <td>0.0</td>\n",
       "      <td>0.0</td>\n",
       "    </tr>\n",
       "    <tr>\n",
       "      <th>3</th>\n",
       "      <td>0.967</td>\n",
       "      <td>1.000</td>\n",
       "      <td>0.831</td>\n",
       "      <td>0.5870</td>\n",
       "      <td>0.3570</td>\n",
       "      <td>0.2490</td>\n",
       "      <td>0.1460</td>\n",
       "      <td>0.0892</td>\n",
       "      <td>0.1170</td>\n",
       "      <td>0.1500</td>\n",
       "      <td>...</td>\n",
       "      <td>0.0</td>\n",
       "      <td>0.0</td>\n",
       "      <td>0.0</td>\n",
       "      <td>0.0</td>\n",
       "      <td>0.0</td>\n",
       "      <td>0.0</td>\n",
       "      <td>0.0</td>\n",
       "      <td>0.0</td>\n",
       "      <td>0.0</td>\n",
       "      <td>0.0</td>\n",
       "    </tr>\n",
       "    <tr>\n",
       "      <th>4</th>\n",
       "      <td>0.927</td>\n",
       "      <td>1.000</td>\n",
       "      <td>0.627</td>\n",
       "      <td>0.1930</td>\n",
       "      <td>0.0950</td>\n",
       "      <td>0.0725</td>\n",
       "      <td>0.0432</td>\n",
       "      <td>0.0535</td>\n",
       "      <td>0.0933</td>\n",
       "      <td>0.1900</td>\n",
       "      <td>...</td>\n",
       "      <td>0.0</td>\n",
       "      <td>0.0</td>\n",
       "      <td>0.0</td>\n",
       "      <td>0.0</td>\n",
       "      <td>0.0</td>\n",
       "      <td>0.0</td>\n",
       "      <td>0.0</td>\n",
       "      <td>0.0</td>\n",
       "      <td>0.0</td>\n",
       "      <td>0.0</td>\n",
       "    </tr>\n",
       "  </tbody>\n",
       "</table>\n",
       "<p>5 rows × 187 columns</p>\n",
       "</div>"
      ],
      "text/plain": [
       "     0      1      2       3       4       5       6       7       8    \\\n",
       "0  0.960  0.863  0.462  0.1970  0.0940  0.1250  0.0997  0.0883  0.0741   \n",
       "1  1.000  0.659  0.186  0.0703  0.0703  0.0595  0.0568  0.0432  0.0541   \n",
       "2  0.925  0.666  0.541  0.2760  0.1960  0.0773  0.0718  0.0608  0.0663   \n",
       "3  0.967  1.000  0.831  0.5870  0.3570  0.2490  0.1460  0.0892  0.1170   \n",
       "4  0.927  1.000  0.627  0.1930  0.0950  0.0725  0.0432  0.0535  0.0933   \n",
       "\n",
       "      9    ...  177  178  179  180  181  182  183  184  185  186  \n",
       "0  0.0826  ...  0.0  0.0  0.0  0.0  0.0  0.0  0.0  0.0  0.0  0.0  \n",
       "1  0.0459  ...  0.0  0.0  0.0  0.0  0.0  0.0  0.0  0.0  0.0  0.0  \n",
       "2  0.0580  ...  0.0  0.0  0.0  0.0  0.0  0.0  0.0  0.0  0.0  0.0  \n",
       "3  0.1500  ...  0.0  0.0  0.0  0.0  0.0  0.0  0.0  0.0  0.0  0.0  \n",
       "4  0.1900  ...  0.0  0.0  0.0  0.0  0.0  0.0  0.0  0.0  0.0  0.0  \n",
       "\n",
       "[5 rows x 187 columns]"
      ]
     },
     "execution_count": 31,
     "metadata": {},
     "output_type": "execute_result"
    }
   ],
   "source": [
    "# Read the training data into a dataframe\n",
    "X_train_df = pd.read_csv(\n",
    "    X_training_data, delimiter=\",\", skiprows=1, header=None)\n",
    "X_train_df.head()"
   ]
  },
  {
   "cell_type": "code",
   "execution_count": 32,
   "metadata": {},
   "outputs": [],
   "source": [
    "# Convert the dataframe to a numpy array for Keras\n",
    "X_train = X_train_df.values"
   ]
  },
  {
   "cell_type": "code",
   "execution_count": 33,
   "metadata": {},
   "outputs": [
    {
     "data": {
      "text/plain": [
       "array([[1., 0., 0., 0.],\n",
       "       [1., 0., 0., 0.],\n",
       "       [1., 0., 0., 0.],\n",
       "       [1., 0., 0., 0.],\n",
       "       [1., 0., 0., 0.],\n",
       "       [1., 0., 0., 0.],\n",
       "       [1., 0., 0., 0.],\n",
       "       [1., 0., 0., 0.],\n",
       "       [1., 0., 0., 0.],\n",
       "       [1., 0., 0., 0.]], dtype=float32)"
      ]
     },
     "execution_count": 33,
     "metadata": {},
     "output_type": "execute_result"
    }
   ],
   "source": [
    "# Read in the training labels as a dataframe\n",
    "y_train_df = pd.read_csv(y_training_data)\n",
    "\n",
    "# One-hot encode the integer labels\n",
    "# 0 Normal_Beat\n",
    "# 1 Supraventricular premature beat\n",
    "# 2 Premature ventricular contraction\n",
    "# 3 Fusion of ventricular and normal beat\n",
    "\n",
    "\n",
    "y_train = to_categorical(y_train_df)\n",
    "y_train[:10]"
   ]
  },
  {
   "cell_type": "code",
   "execution_count": 34,
   "metadata": {},
   "outputs": [
    {
     "data": {
      "text/plain": [
       "(20283, 187)"
      ]
     },
     "execution_count": 34,
     "metadata": {},
     "output_type": "execute_result"
    }
   ],
   "source": [
    "# Read the testing data\n",
    "X_test_df = pd.read_csv(X_testing_data, delimiter=\",\", skiprows=1, header=None)\n",
    "X_test = X_test_df.values\n",
    "X_test.shape"
   ]
  },
  {
   "cell_type": "code",
   "execution_count": 35,
   "metadata": {},
   "outputs": [
    {
     "data": {
      "text/plain": [
       "(20283, 4)"
      ]
     },
     "execution_count": 35,
     "metadata": {},
     "output_type": "execute_result"
    }
   ],
   "source": [
    "# Read the testing labels\n",
    "y_test_df = pd.read_csv(y_testing_data)\n",
    "# One-hot encode the integer labels\n",
    "y_test = to_categorical(y_test_df)\n",
    "y_test.shape"
   ]
  },
  {
   "cell_type": "markdown",
   "metadata": {},
   "source": [
    "# Build a Deep Neural Network"
   ]
  },
  {
   "cell_type": "code",
   "execution_count": 36,
   "metadata": {},
   "outputs": [],
   "source": [
    "# Create an empty sequential model\n",
    "model = Sequential()"
   ]
  },
  {
   "cell_type": "code",
   "execution_count": 37,
   "metadata": {},
   "outputs": [
    {
     "name": "stdout",
     "output_type": "stream",
     "text": [
      "WARNING:tensorflow:From C:\\Users\\cris.bangaoil\\AppData\\Local\\conda\\conda\\envs\\ml\\lib\\site-packages\\tensorflow\\python\\framework\\op_def_library.py:263: colocate_with (from tensorflow.python.framework.ops) is deprecated and will be removed in a future version.\n",
      "Instructions for updating:\n",
      "Colocations handled automatically by placer.\n"
     ]
    }
   ],
   "source": [
    "# Add the first layer where the input dimensions are the 561 columns of the training data\n",
    "model.add(Dense(100, activation='relu', input_dim=X_train.shape[1]))"
   ]
  },
  {
   "cell_type": "code",
   "execution_count": 38,
   "metadata": {},
   "outputs": [],
   "source": [
    "# Add a second hidden layer\n",
    "model.add(Dense(100, activation='relu'))"
   ]
  },
  {
   "cell_type": "code",
   "execution_count": 39,
   "metadata": {},
   "outputs": [
    {
     "data": {
      "text/plain": [
       "(81122, 4)"
      ]
     },
     "execution_count": 39,
     "metadata": {},
     "output_type": "execute_result"
    }
   ],
   "source": [
    "# The output layer has 13 columns that are one-hot encoded\n",
    "y_train.shape"
   ]
  },
  {
   "cell_type": "code",
   "execution_count": 40,
   "metadata": {},
   "outputs": [],
   "source": [
    "# Add output layer\n",
    "model.add(Dense(y_train.shape[1], activation=\"softmax\"))"
   ]
  },
  {
   "cell_type": "code",
   "execution_count": 41,
   "metadata": {},
   "outputs": [],
   "source": [
    "# Compile the model using categorical_crossentropy for the loss function, the adam optimizer,\n",
    "# and add accuracy to the training metrics\n",
    "model.compile(loss=\"categorical_crossentropy\",\n",
    "              optimizer=\"adam\", metrics=['accuracy'])"
   ]
  },
  {
   "cell_type": "code",
   "execution_count": 42,
   "metadata": {},
   "outputs": [
    {
     "name": "stdout",
     "output_type": "stream",
     "text": [
      "WARNING:tensorflow:From C:\\Users\\cris.bangaoil\\AppData\\Local\\conda\\conda\\envs\\ml\\lib\\site-packages\\tensorflow\\python\\ops\\math_ops.py:3066: to_int32 (from tensorflow.python.ops.math_ops) is deprecated and will be removed in a future version.\n",
      "Instructions for updating:\n",
      "Use tf.cast instead.\n",
      "Epoch 1/100\n",
      " - 4s - loss: 0.1871 - acc: 0.9479\n",
      "Epoch 2/100\n",
      " - 4s - loss: 0.1192 - acc: 0.9671\n",
      "Epoch 3/100\n",
      " - 5s - loss: 0.1030 - acc: 0.9718\n",
      "Epoch 4/100\n",
      " - 5s - loss: 0.0929 - acc: 0.9736\n",
      "Epoch 5/100\n",
      " - 5s - loss: 0.0860 - acc: 0.9757\n",
      "Epoch 6/100\n",
      " - 5s - loss: 0.0792 - acc: 0.9770\n",
      "Epoch 7/100\n",
      " - 5s - loss: 0.0739 - acc: 0.9780\n",
      "Epoch 8/100\n",
      " - 5s - loss: 0.0701 - acc: 0.9789\n",
      "Epoch 9/100\n",
      " - 5s - loss: 0.0653 - acc: 0.9804\n",
      "Epoch 10/100\n",
      " - 5s - loss: 0.0620 - acc: 0.9810\n",
      "Epoch 11/100\n",
      " - 5s - loss: 0.0586 - acc: 0.9822\n",
      "Epoch 12/100\n",
      " - 5s - loss: 0.0556 - acc: 0.9827\n",
      "Epoch 13/100\n",
      " - 5s - loss: 0.0540 - acc: 0.9834\n",
      "Epoch 14/100\n",
      " - 5s - loss: 0.0508 - acc: 0.9845\n",
      "Epoch 15/100\n",
      " - 5s - loss: 0.0494 - acc: 0.9847\n",
      "Epoch 16/100\n",
      " - 5s - loss: 0.0487 - acc: 0.9848\n",
      "Epoch 17/100\n",
      " - 5s - loss: 0.0462 - acc: 0.9854\n",
      "Epoch 18/100\n",
      " - 5s - loss: 0.0440 - acc: 0.9864\n",
      "Epoch 19/100\n",
      " - 5s - loss: 0.0428 - acc: 0.9864\n",
      "Epoch 20/100\n",
      " - 5s - loss: 0.0421 - acc: 0.9862\n",
      "Epoch 21/100\n",
      " - 5s - loss: 0.0410 - acc: 0.9869\n",
      "Epoch 22/100\n",
      " - 5s - loss: 0.0378 - acc: 0.9877\n",
      "Epoch 23/100\n",
      " - 5s - loss: 0.0380 - acc: 0.9880\n",
      "Epoch 24/100\n",
      " - 5s - loss: 0.0363 - acc: 0.9883\n",
      "Epoch 25/100\n",
      " - 5s - loss: 0.0351 - acc: 0.9887\n",
      "Epoch 26/100\n",
      " - 5s - loss: 0.0347 - acc: 0.9889\n",
      "Epoch 27/100\n",
      " - 5s - loss: 0.0335 - acc: 0.9888\n",
      "Epoch 28/100\n",
      " - 5s - loss: 0.0317 - acc: 0.9894\n",
      "Epoch 29/100\n",
      " - 5s - loss: 0.0325 - acc: 0.9893\n",
      "Epoch 30/100\n",
      " - 5s - loss: 0.0301 - acc: 0.9901\n",
      "Epoch 31/100\n",
      " - 5s - loss: 0.0291 - acc: 0.9903\n",
      "Epoch 32/100\n",
      " - 5s - loss: 0.0295 - acc: 0.9901\n",
      "Epoch 33/100\n",
      " - 5s - loss: 0.0285 - acc: 0.9901\n",
      "Epoch 34/100\n",
      " - 5s - loss: 0.0285 - acc: 0.9903\n",
      "Epoch 35/100\n",
      " - 5s - loss: 0.0274 - acc: 0.9906\n",
      "Epoch 36/100\n",
      " - 5s - loss: 0.0266 - acc: 0.9908\n",
      "Epoch 37/100\n",
      " - 6s - loss: 0.0247 - acc: 0.9917\n",
      "Epoch 38/100\n",
      " - 5s - loss: 0.0255 - acc: 0.9914\n",
      "Epoch 39/100\n",
      " - 5s - loss: 0.0253 - acc: 0.9915\n",
      "Epoch 40/100\n",
      " - 5s - loss: 0.0237 - acc: 0.9919\n",
      "Epoch 41/100\n",
      " - 5s - loss: 0.0230 - acc: 0.9922\n",
      "Epoch 42/100\n",
      " - 5s - loss: 0.0244 - acc: 0.9918\n",
      "Epoch 43/100\n",
      " - 5s - loss: 0.0227 - acc: 0.9923\n",
      "Epoch 44/100\n",
      " - 5s - loss: 0.0220 - acc: 0.9928\n",
      "Epoch 45/100\n",
      " - 5s - loss: 0.0216 - acc: 0.9924\n",
      "Epoch 46/100\n",
      " - 5s - loss: 0.0216 - acc: 0.9924\n",
      "Epoch 47/100\n",
      " - 5s - loss: 0.0210 - acc: 0.9928\n",
      "Epoch 48/100\n",
      " - 5s - loss: 0.0208 - acc: 0.9927\n",
      "Epoch 49/100\n",
      " - 5s - loss: 0.0212 - acc: 0.9930\n",
      "Epoch 50/100\n",
      " - 5s - loss: 0.0193 - acc: 0.9934\n",
      "Epoch 51/100\n",
      " - 5s - loss: 0.0199 - acc: 0.9933\n",
      "Epoch 52/100\n",
      " - 5s - loss: 0.0199 - acc: 0.9930\n",
      "Epoch 53/100\n",
      " - 5s - loss: 0.0186 - acc: 0.9935\n",
      "Epoch 54/100\n",
      " - 5s - loss: 0.0176 - acc: 0.9939\n",
      "Epoch 55/100\n",
      " - 5s - loss: 0.0188 - acc: 0.9936\n",
      "Epoch 56/100\n",
      " - 5s - loss: 0.0188 - acc: 0.9933\n",
      "Epoch 57/100\n",
      " - 5s - loss: 0.0168 - acc: 0.9944\n",
      "Epoch 58/100\n",
      " - 5s - loss: 0.0180 - acc: 0.9937\n",
      "Epoch 59/100\n",
      " - 5s - loss: 0.0173 - acc: 0.9938\n",
      "Epoch 60/100\n",
      " - 5s - loss: 0.0172 - acc: 0.9936\n",
      "Epoch 61/100\n",
      " - 5s - loss: 0.0169 - acc: 0.9942\n",
      "Epoch 62/100\n",
      " - 5s - loss: 0.0166 - acc: 0.9944\n",
      "Epoch 63/100\n",
      " - 5s - loss: 0.0160 - acc: 0.9944\n",
      "Epoch 64/100\n",
      " - 5s - loss: 0.0166 - acc: 0.9944\n",
      "Epoch 65/100\n",
      " - 5s - loss: 0.0167 - acc: 0.9942\n",
      "Epoch 66/100\n",
      " - 5s - loss: 0.0161 - acc: 0.9944\n",
      "Epoch 67/100\n",
      " - 5s - loss: 0.0167 - acc: 0.9947\n",
      "Epoch 68/100\n",
      " - 5s - loss: 0.0152 - acc: 0.9943\n",
      "Epoch 69/100\n",
      " - 5s - loss: 0.0149 - acc: 0.9951\n",
      "Epoch 70/100\n",
      " - 5s - loss: 0.0151 - acc: 0.9950\n",
      "Epoch 71/100\n",
      " - 5s - loss: 0.0151 - acc: 0.9947\n",
      "Epoch 72/100\n",
      " - 5s - loss: 0.0146 - acc: 0.9952\n",
      "Epoch 73/100\n",
      " - 5s - loss: 0.0150 - acc: 0.9949\n",
      "Epoch 74/100\n",
      " - 5s - loss: 0.0149 - acc: 0.9951\n",
      "Epoch 75/100\n",
      " - 5s - loss: 0.0148 - acc: 0.9951\n",
      "Epoch 76/100\n",
      " - 5s - loss: 0.0146 - acc: 0.9953\n",
      "Epoch 77/100\n",
      " - 5s - loss: 0.0134 - acc: 0.9955\n",
      "Epoch 78/100\n",
      " - 5s - loss: 0.0130 - acc: 0.9956\n",
      "Epoch 79/100\n",
      " - 5s - loss: 0.0126 - acc: 0.9954\n",
      "Epoch 80/100\n",
      " - 5s - loss: 0.0149 - acc: 0.9950\n",
      "Epoch 81/100\n",
      " - 5s - loss: 0.0131 - acc: 0.9956\n",
      "Epoch 82/100\n",
      " - 5s - loss: 0.0128 - acc: 0.9956\n",
      "Epoch 83/100\n",
      " - 5s - loss: 0.0140 - acc: 0.9954\n",
      "Epoch 84/100\n",
      " - 5s - loss: 0.0136 - acc: 0.9952\n",
      "Epoch 85/100\n",
      " - 5s - loss: 0.0127 - acc: 0.9958\n",
      "Epoch 86/100\n",
      " - 5s - loss: 0.0139 - acc: 0.9954\n",
      "Epoch 87/100\n",
      " - 5s - loss: 0.0127 - acc: 0.9958\n",
      "Epoch 88/100\n",
      " - 5s - loss: 0.0149 - acc: 0.9952\n",
      "Epoch 89/100\n",
      " - 5s - loss: 0.0128 - acc: 0.9957\n",
      "Epoch 90/100\n",
      " - 6s - loss: 0.0123 - acc: 0.9961\n",
      "Epoch 91/100\n",
      " - 5s - loss: 0.0129 - acc: 0.9957\n",
      "Epoch 92/100\n",
      " - 5s - loss: 0.0127 - acc: 0.9957\n",
      "Epoch 93/100\n",
      " - 5s - loss: 0.0112 - acc: 0.9961\n",
      "Epoch 94/100\n",
      " - 5s - loss: 0.0126 - acc: 0.9958\n",
      "Epoch 95/100\n",
      " - 5s - loss: 0.0128 - acc: 0.9957\n",
      "Epoch 96/100\n",
      " - 5s - loss: 0.0129 - acc: 0.9956\n",
      "Epoch 97/100\n",
      " - 5s - loss: 0.0112 - acc: 0.9961\n",
      "Epoch 98/100\n",
      " - 5s - loss: 0.0118 - acc: 0.9962\n",
      "Epoch 99/100\n",
      " - 5s - loss: 0.0111 - acc: 0.9964\n",
      "Epoch 100/100\n",
      " - 5s - loss: 0.0131 - acc: 0.9955\n"
     ]
    },
    {
     "data": {
      "text/plain": [
       "<keras.callbacks.History at 0x2140948b8d0>"
      ]
     },
     "execution_count": 42,
     "metadata": {},
     "output_type": "execute_result"
    }
   ],
   "source": [
    "# Use the training data to fit (train) the model\n",
    "model.fit(\n",
    "    X_train,\n",
    "    y_train,\n",
    "    epochs=100,\n",
    "    shuffle=True,\n",
    "    verbose=2\n",
    ")"
   ]
  },
  {
   "cell_type": "markdown",
   "metadata": {},
   "source": [
    "# Save the Trained Model"
   ]
  },
  {
   "cell_type": "code",
   "execution_count": 43,
   "metadata": {},
   "outputs": [],
   "source": [
    "# Save the model\n",
    "model.save(\"ECG_DNN_trained.h5\")"
   ]
  },
  {
   "cell_type": "markdown",
   "metadata": {},
   "source": [
    "# Evaluate the Model"
   ]
  },
  {
   "cell_type": "code",
   "execution_count": 44,
   "metadata": {},
   "outputs": [],
   "source": [
    "# Load the model\n",
    "from keras.models import load_model\n",
    "model = load_model(\"ECG_DNN_trained.h5\")"
   ]
  },
  {
   "cell_type": "code",
   "execution_count": 45,
   "metadata": {},
   "outputs": [
    {
     "name": "stdout",
     "output_type": "stream",
     "text": [
      "Loss: 0.13335433410528846, Accuracy: 0.9820046344611182\n"
     ]
    }
   ],
   "source": [
    "# Evaluate the model using the training data\n",
    "model_loss, model_accuracy = model.evaluate(X_test, y_test, verbose=2)\n",
    "print(f\"Loss: {model_loss}, Accuracy: {model_accuracy}\")"
   ]
  },
  {
   "cell_type": "code",
   "execution_count": 46,
   "metadata": {},
   "outputs": [
    {
     "data": {
      "text/plain": [
       "(1, 187)"
      ]
     },
     "execution_count": 46,
     "metadata": {},
     "output_type": "execute_result"
    }
   ],
   "source": [
    "# Grab just one data point to test with\n",
    "test = np.expand_dims(X_test[0], axis=0)\n",
    "test.shape"
   ]
  },
  {
   "cell_type": "code",
   "execution_count": 47,
   "metadata": {},
   "outputs": [
    {
     "name": "stdout",
     "output_type": "stream",
     "text": [
      "Predicted class: [0]\n"
     ]
    }
   ],
   "source": [
    "# Make a prediction. \n",
    "print(f\"Predicted class: {model.predict_classes(test)}\")"
   ]
  },
  {
   "cell_type": "code",
   "execution_count": null,
   "metadata": {},
   "outputs": [],
   "source": []
  }
 ],
 "metadata": {
  "anaconda-cloud": {},
  "kernelspec": {
   "display_name": "Python 3 - ML",
   "language": "python",
   "name": "ml"
  },
  "language_info": {
   "codemirror_mode": {
    "name": "ipython",
    "version": 3
   },
   "file_extension": ".py",
   "mimetype": "text/x-python",
   "name": "python",
   "nbconvert_exporter": "python",
   "pygments_lexer": "ipython3",
   "version": "3.6.8"
  },
  "varInspector": {
   "cols": {
    "lenName": 16,
    "lenType": 16,
    "lenVar": 40
   },
   "kernels_config": {
    "python": {
     "delete_cmd_postfix": "",
     "delete_cmd_prefix": "del ",
     "library": "var_list.py",
     "varRefreshCmd": "print(var_dic_list())"
    },
    "r": {
     "delete_cmd_postfix": ") ",
     "delete_cmd_prefix": "rm(",
     "library": "var_list.r",
     "varRefreshCmd": "cat(var_dic_list()) "
    }
   },
   "types_to_exclude": [
    "module",
    "function",
    "builtin_function_or_method",
    "instance",
    "_Feature"
   ],
   "window_display": false
  }
 },
 "nbformat": 4,
 "nbformat_minor": 2
}
